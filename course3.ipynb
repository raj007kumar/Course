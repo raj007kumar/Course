{
 "cells": [
  {
   "cell_type": "code",
   "execution_count": 15,
   "metadata": {},
   "outputs": [
    {
     "name": "stdout",
     "output_type": "stream",
     "text": [
      "name: RAJ KUMAR\n",
      "module: GIT & GITHUB\n",
      "None None\n",
      "in this  github repository i learn about how to created this repository data  and save in the database like distributed version control systems so its easily access by other developers from other places.\n"
     ]
    }
   ],
   "source": [
    "from os import name\n",
    "\n",
    "\n",
    "def func():\n",
    "    self__name__ = name\n",
    "    print(\"name: RAJ KUMAR\")\n",
    "def module():\n",
    "    self__module__ = module\n",
    "    print(\"module: GIT & GITHUB\")\n",
    "    \n",
    "print(func(),module())\n",
    "print(\"in this  github repository i learn about how to created this repository data  and save in the database like distributed version control systems so its easily access by other developers from other places.\")\n"
   ]
  }
 ],
 "metadata": {
  "kernelspec": {
   "display_name": "Python 3.10.6 64-bit (windows store)",
   "language": "python",
   "name": "python3"
  },
  "language_info": {
   "codemirror_mode": {
    "name": "ipython",
    "version": 3
   },
   "file_extension": ".py",
   "mimetype": "text/x-python",
   "name": "python",
   "nbconvert_exporter": "python",
   "pygments_lexer": "ipython3",
   "version": "3.10.6"
  },
  "orig_nbformat": 4,
  "vscode": {
   "interpreter": {
    "hash": "a62fd1bdfcc02b5d531c595be0cacb51a6a1ada8797c41a4dac896baa701e813"
   }
  }
 },
 "nbformat": 4,
 "nbformat_minor": 2
}
